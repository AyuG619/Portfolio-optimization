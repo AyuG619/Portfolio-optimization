{
  "nbformat": 4,
  "nbformat_minor": 0,
  "metadata": {
    "colab": {
      "provenance": []
    },
    "kernelspec": {
      "name": "python3",
      "display_name": "Python 3"
    },
    "language_info": {
      "name": "python"
    }
  },
  "cells": [
    {
      "cell_type": "code",
      "execution_count": 9,
      "metadata": {
        "colab": {
          "base_uri": "https://localhost:8080/"
        },
        "id": "VEoQ7Z3T52LU",
        "outputId": "0c0e8c64-6746-4575-e0f6-f0fd71c564f2"
      },
      "outputs": [
        {
          "output_type": "stream",
          "name": "stdout",
          "text": [
            "Requirement already satisfied: langchain in /usr/local/lib/python3.11/dist-packages (0.3.25)\n",
            "Requirement already satisfied: openai in /usr/local/lib/python3.11/dist-packages (1.81.0)\n",
            "Requirement already satisfied: pandas in /usr/local/lib/python3.11/dist-packages (2.2.2)\n",
            "Requirement already satisfied: numpy in /usr/local/lib/python3.11/dist-packages (2.0.2)\n",
            "Requirement already satisfied: scikit-learn in /usr/local/lib/python3.11/dist-packages (1.6.1)\n",
            "Requirement already satisfied: yfinance in /usr/local/lib/python3.11/dist-packages (0.2.61)\n",
            "Collecting langchain_community\n",
            "  Downloading langchain_community-0.3.24-py3-none-any.whl.metadata (2.5 kB)\n",
            "Requirement already satisfied: matplotlib in /usr/local/lib/python3.11/dist-packages (3.10.0)\n",
            "Requirement already satisfied: langchain-core<1.0.0,>=0.3.58 in /usr/local/lib/python3.11/dist-packages (from langchain) (0.3.60)\n",
            "Requirement already satisfied: langchain-text-splitters<1.0.0,>=0.3.8 in /usr/local/lib/python3.11/dist-packages (from langchain) (0.3.8)\n",
            "Requirement already satisfied: langsmith<0.4,>=0.1.17 in /usr/local/lib/python3.11/dist-packages (from langchain) (0.3.42)\n",
            "Requirement already satisfied: pydantic<3.0.0,>=2.7.4 in /usr/local/lib/python3.11/dist-packages (from langchain) (2.11.4)\n",
            "Requirement already satisfied: SQLAlchemy<3,>=1.4 in /usr/local/lib/python3.11/dist-packages (from langchain) (2.0.41)\n",
            "Requirement already satisfied: requests<3,>=2 in /usr/local/lib/python3.11/dist-packages (from langchain) (2.32.3)\n",
            "Requirement already satisfied: PyYAML>=5.3 in /usr/local/lib/python3.11/dist-packages (from langchain) (6.0.2)\n",
            "Requirement already satisfied: anyio<5,>=3.5.0 in /usr/local/lib/python3.11/dist-packages (from openai) (4.9.0)\n",
            "Requirement already satisfied: distro<2,>=1.7.0 in /usr/local/lib/python3.11/dist-packages (from openai) (1.9.0)\n",
            "Requirement already satisfied: httpx<1,>=0.23.0 in /usr/local/lib/python3.11/dist-packages (from openai) (0.28.1)\n",
            "Requirement already satisfied: jiter<1,>=0.4.0 in /usr/local/lib/python3.11/dist-packages (from openai) (0.10.0)\n",
            "Requirement already satisfied: sniffio in /usr/local/lib/python3.11/dist-packages (from openai) (1.3.1)\n",
            "Requirement already satisfied: tqdm>4 in /usr/local/lib/python3.11/dist-packages (from openai) (4.67.1)\n",
            "Requirement already satisfied: typing-extensions<5,>=4.11 in /usr/local/lib/python3.11/dist-packages (from openai) (4.13.2)\n",
            "Requirement already satisfied: python-dateutil>=2.8.2 in /usr/local/lib/python3.11/dist-packages (from pandas) (2.9.0.post0)\n",
            "Requirement already satisfied: pytz>=2020.1 in /usr/local/lib/python3.11/dist-packages (from pandas) (2025.2)\n",
            "Requirement already satisfied: tzdata>=2022.7 in /usr/local/lib/python3.11/dist-packages (from pandas) (2025.2)\n",
            "Requirement already satisfied: scipy>=1.6.0 in /usr/local/lib/python3.11/dist-packages (from scikit-learn) (1.15.3)\n",
            "Requirement already satisfied: joblib>=1.2.0 in /usr/local/lib/python3.11/dist-packages (from scikit-learn) (1.5.0)\n",
            "Requirement already satisfied: threadpoolctl>=3.1.0 in /usr/local/lib/python3.11/dist-packages (from scikit-learn) (3.6.0)\n",
            "Requirement already satisfied: multitasking>=0.0.7 in /usr/local/lib/python3.11/dist-packages (from yfinance) (0.0.11)\n",
            "Requirement already satisfied: platformdirs>=2.0.0 in /usr/local/lib/python3.11/dist-packages (from yfinance) (4.3.8)\n",
            "Requirement already satisfied: frozendict>=2.3.4 in /usr/local/lib/python3.11/dist-packages (from yfinance) (2.4.6)\n",
            "Requirement already satisfied: peewee>=3.16.2 in /usr/local/lib/python3.11/dist-packages (from yfinance) (3.18.1)\n",
            "Requirement already satisfied: beautifulsoup4>=4.11.1 in /usr/local/lib/python3.11/dist-packages (from yfinance) (4.13.4)\n",
            "Requirement already satisfied: curl_cffi>=0.7 in /usr/local/lib/python3.11/dist-packages (from yfinance) (0.11.1)\n",
            "Requirement already satisfied: protobuf>=3.19.0 in /usr/local/lib/python3.11/dist-packages (from yfinance) (5.29.4)\n",
            "Requirement already satisfied: websockets>=13.0 in /usr/local/lib/python3.11/dist-packages (from yfinance) (15.0.1)\n",
            "Requirement already satisfied: aiohttp<4.0.0,>=3.8.3 in /usr/local/lib/python3.11/dist-packages (from langchain_community) (3.11.15)\n",
            "Requirement already satisfied: tenacity!=8.4.0,<10,>=8.1.0 in /usr/local/lib/python3.11/dist-packages (from langchain_community) (9.1.2)\n",
            "Collecting dataclasses-json<0.7,>=0.5.7 (from langchain_community)\n",
            "  Downloading dataclasses_json-0.6.7-py3-none-any.whl.metadata (25 kB)\n",
            "Collecting pydantic-settings<3.0.0,>=2.4.0 (from langchain_community)\n",
            "  Downloading pydantic_settings-2.9.1-py3-none-any.whl.metadata (3.8 kB)\n",
            "Collecting httpx-sse<1.0.0,>=0.4.0 (from langchain_community)\n",
            "  Downloading httpx_sse-0.4.0-py3-none-any.whl.metadata (9.0 kB)\n",
            "Requirement already satisfied: contourpy>=1.0.1 in /usr/local/lib/python3.11/dist-packages (from matplotlib) (1.3.2)\n",
            "Requirement already satisfied: cycler>=0.10 in /usr/local/lib/python3.11/dist-packages (from matplotlib) (0.12.1)\n",
            "Requirement already satisfied: fonttools>=4.22.0 in /usr/local/lib/python3.11/dist-packages (from matplotlib) (4.58.0)\n",
            "Requirement already satisfied: kiwisolver>=1.3.1 in /usr/local/lib/python3.11/dist-packages (from matplotlib) (1.4.8)\n",
            "Requirement already satisfied: packaging>=20.0 in /usr/local/lib/python3.11/dist-packages (from matplotlib) (24.2)\n",
            "Requirement already satisfied: pillow>=8 in /usr/local/lib/python3.11/dist-packages (from matplotlib) (11.2.1)\n",
            "Requirement already satisfied: pyparsing>=2.3.1 in /usr/local/lib/python3.11/dist-packages (from matplotlib) (3.2.3)\n",
            "Requirement already satisfied: aiohappyeyeballs>=2.3.0 in /usr/local/lib/python3.11/dist-packages (from aiohttp<4.0.0,>=3.8.3->langchain_community) (2.6.1)\n",
            "Requirement already satisfied: aiosignal>=1.1.2 in /usr/local/lib/python3.11/dist-packages (from aiohttp<4.0.0,>=3.8.3->langchain_community) (1.3.2)\n",
            "Requirement already satisfied: attrs>=17.3.0 in /usr/local/lib/python3.11/dist-packages (from aiohttp<4.0.0,>=3.8.3->langchain_community) (25.3.0)\n",
            "Requirement already satisfied: frozenlist>=1.1.1 in /usr/local/lib/python3.11/dist-packages (from aiohttp<4.0.0,>=3.8.3->langchain_community) (1.6.0)\n",
            "Requirement already satisfied: multidict<7.0,>=4.5 in /usr/local/lib/python3.11/dist-packages (from aiohttp<4.0.0,>=3.8.3->langchain_community) (6.4.4)\n",
            "Requirement already satisfied: propcache>=0.2.0 in /usr/local/lib/python3.11/dist-packages (from aiohttp<4.0.0,>=3.8.3->langchain_community) (0.3.1)\n",
            "Requirement already satisfied: yarl<2.0,>=1.17.0 in /usr/local/lib/python3.11/dist-packages (from aiohttp<4.0.0,>=3.8.3->langchain_community) (1.20.0)\n",
            "Requirement already satisfied: idna>=2.8 in /usr/local/lib/python3.11/dist-packages (from anyio<5,>=3.5.0->openai) (3.10)\n",
            "Requirement already satisfied: soupsieve>1.2 in /usr/local/lib/python3.11/dist-packages (from beautifulsoup4>=4.11.1->yfinance) (2.7)\n",
            "Requirement already satisfied: cffi>=1.12.0 in /usr/local/lib/python3.11/dist-packages (from curl_cffi>=0.7->yfinance) (1.17.1)\n",
            "Requirement already satisfied: certifi>=2024.2.2 in /usr/local/lib/python3.11/dist-packages (from curl_cffi>=0.7->yfinance) (2025.4.26)\n",
            "Collecting marshmallow<4.0.0,>=3.18.0 (from dataclasses-json<0.7,>=0.5.7->langchain_community)\n",
            "  Downloading marshmallow-3.26.1-py3-none-any.whl.metadata (7.3 kB)\n",
            "Collecting typing-inspect<1,>=0.4.0 (from dataclasses-json<0.7,>=0.5.7->langchain_community)\n",
            "  Downloading typing_inspect-0.9.0-py3-none-any.whl.metadata (1.5 kB)\n",
            "Requirement already satisfied: httpcore==1.* in /usr/local/lib/python3.11/dist-packages (from httpx<1,>=0.23.0->openai) (1.0.9)\n",
            "Requirement already satisfied: h11>=0.16 in /usr/local/lib/python3.11/dist-packages (from httpcore==1.*->httpx<1,>=0.23.0->openai) (0.16.0)\n",
            "Requirement already satisfied: jsonpatch<2.0,>=1.33 in /usr/local/lib/python3.11/dist-packages (from langchain-core<1.0.0,>=0.3.58->langchain) (1.33)\n",
            "Requirement already satisfied: orjson<4.0.0,>=3.9.14 in /usr/local/lib/python3.11/dist-packages (from langsmith<0.4,>=0.1.17->langchain) (3.10.18)\n",
            "Requirement already satisfied: requests-toolbelt<2.0.0,>=1.0.0 in /usr/local/lib/python3.11/dist-packages (from langsmith<0.4,>=0.1.17->langchain) (1.0.0)\n",
            "Requirement already satisfied: zstandard<0.24.0,>=0.23.0 in /usr/local/lib/python3.11/dist-packages (from langsmith<0.4,>=0.1.17->langchain) (0.23.0)\n",
            "Requirement already satisfied: annotated-types>=0.6.0 in /usr/local/lib/python3.11/dist-packages (from pydantic<3.0.0,>=2.7.4->langchain) (0.7.0)\n",
            "Requirement already satisfied: pydantic-core==2.33.2 in /usr/local/lib/python3.11/dist-packages (from pydantic<3.0.0,>=2.7.4->langchain) (2.33.2)\n",
            "Requirement already satisfied: typing-inspection>=0.4.0 in /usr/local/lib/python3.11/dist-packages (from pydantic<3.0.0,>=2.7.4->langchain) (0.4.1)\n",
            "Collecting python-dotenv>=0.21.0 (from pydantic-settings<3.0.0,>=2.4.0->langchain_community)\n",
            "  Downloading python_dotenv-1.1.0-py3-none-any.whl.metadata (24 kB)\n",
            "Requirement already satisfied: six>=1.5 in /usr/local/lib/python3.11/dist-packages (from python-dateutil>=2.8.2->pandas) (1.17.0)\n",
            "Requirement already satisfied: charset-normalizer<4,>=2 in /usr/local/lib/python3.11/dist-packages (from requests<3,>=2->langchain) (3.4.2)\n",
            "Requirement already satisfied: urllib3<3,>=1.21.1 in /usr/local/lib/python3.11/dist-packages (from requests<3,>=2->langchain) (2.4.0)\n",
            "Requirement already satisfied: greenlet>=1 in /usr/local/lib/python3.11/dist-packages (from SQLAlchemy<3,>=1.4->langchain) (3.2.2)\n",
            "Requirement already satisfied: pycparser in /usr/local/lib/python3.11/dist-packages (from cffi>=1.12.0->curl_cffi>=0.7->yfinance) (2.22)\n",
            "Requirement already satisfied: jsonpointer>=1.9 in /usr/local/lib/python3.11/dist-packages (from jsonpatch<2.0,>=1.33->langchain-core<1.0.0,>=0.3.58->langchain) (3.0.0)\n",
            "Collecting mypy-extensions>=0.3.0 (from typing-inspect<1,>=0.4.0->dataclasses-json<0.7,>=0.5.7->langchain_community)\n",
            "  Downloading mypy_extensions-1.1.0-py3-none-any.whl.metadata (1.1 kB)\n",
            "Downloading langchain_community-0.3.24-py3-none-any.whl (2.5 MB)\n",
            "\u001b[2K   \u001b[90m━━━━━━━━━━━━━━━━━━━━━━━━━━━━━━━━━━━━━━━━\u001b[0m \u001b[32m2.5/2.5 MB\u001b[0m \u001b[31m44.8 MB/s\u001b[0m eta \u001b[36m0:00:00\u001b[0m\n",
            "\u001b[?25hDownloading dataclasses_json-0.6.7-py3-none-any.whl (28 kB)\n",
            "Downloading httpx_sse-0.4.0-py3-none-any.whl (7.8 kB)\n",
            "Downloading pydantic_settings-2.9.1-py3-none-any.whl (44 kB)\n",
            "\u001b[2K   \u001b[90m━━━━━━━━━━━━━━━━━━━━━━━━━━━━━━━━━━━━━━━━\u001b[0m \u001b[32m44.4/44.4 kB\u001b[0m \u001b[31m3.5 MB/s\u001b[0m eta \u001b[36m0:00:00\u001b[0m\n",
            "\u001b[?25hDownloading marshmallow-3.26.1-py3-none-any.whl (50 kB)\n",
            "\u001b[2K   \u001b[90m━━━━━━━━━━━━━━━━━━━━━━━━━━━━━━━━━━━━━━━━\u001b[0m \u001b[32m50.9/50.9 kB\u001b[0m \u001b[31m3.7 MB/s\u001b[0m eta \u001b[36m0:00:00\u001b[0m\n",
            "\u001b[?25hDownloading python_dotenv-1.1.0-py3-none-any.whl (20 kB)\n",
            "Downloading typing_inspect-0.9.0-py3-none-any.whl (8.8 kB)\n",
            "Downloading mypy_extensions-1.1.0-py3-none-any.whl (5.0 kB)\n",
            "Installing collected packages: python-dotenv, mypy-extensions, marshmallow, httpx-sse, typing-inspect, pydantic-settings, dataclasses-json, langchain_community\n",
            "Successfully installed dataclasses-json-0.6.7 httpx-sse-0.4.0 langchain_community-0.3.24 marshmallow-3.26.1 mypy-extensions-1.1.0 pydantic-settings-2.9.1 python-dotenv-1.1.0 typing-inspect-0.9.0\n"
          ]
        }
      ],
      "source": [
        "pip install langchain openai pandas numpy scikit-learn yfinance langchain_community matplotlib"
      ]
    },
    {
      "cell_type": "code",
      "source": [
        "import numpy as np\n",
        "import pandas as pd\n",
        "import matplotlib.pyplot as plt\n",
        "import yfinance as yf\n",
        "\n"
      ],
      "metadata": {
        "id": "7yfxrdOphiuQ"
      },
      "execution_count": 10,
      "outputs": []
    },
    {
      "cell_type": "code",
      "source": [
        "import yfinance as yf\n",
        "import pandas as pd\n",
        "\n",
        "def get_tickers_interactive():\n",
        "    print(\"Enter stock tickers (e.g., AAPL MSFT CVX):\")\n",
        "    user_input = input().strip().upper()\n",
        "    return user_input.split()\n",
        "\n",
        "# Get tickers\n",
        "clean_tickers = get_tickers_interactive()\n",
        "\n",
        "# Download data\n",
        "data = yf.download(\n",
        "    tickers=clean_tickers,\n",
        "    period=\"1y\",\n",
        "    interval=\"1d\",\n",
        "    group_by='ticker',\n",
        "    auto_adjust=True,\n",
        "    progress=False\n",
        ")\n",
        "\n",
        "#PRICE_DATA IS ACTUALLY CLOSE PRICE DATA\n",
        "if len(clean_tickers) == 1:\n",
        "    # Single ticker case\n",
        "    returns = data[clean_tickers[0]]['Close'].dropna()\n",
        "    price_data = pd.DataFrame({\n",
        "        clean_tickers[0]: returns.values\n",
        "    })\n",
        "else:\n",
        "    # Multiple tickers case\n",
        "    returns_dict = {}\n",
        "    for ticker in clean_tickers:\n",
        "        returns = data[ticker]['Close'].dropna()\n",
        "        returns_dict[ticker] = returns.values\n",
        "\n",
        "    price_data = pd.DataFrame(returns_dict)\n",
        "\n",
        "print(\"price_data = ({\")\n",
        "for i, col in enumerate(price_data.columns):\n",
        "    print(f\"    '{col}': {price_data[col].tolist()},\")\n",
        "print(\"})\")\n",
        "\n",
        "# Also display the actual DataFrame\n",
        "print(\"\\nActual DataFrame:\")\n",
        "print(price_data)"
      ],
      "metadata": {
        "colab": {
          "base_uri": "https://localhost:8080/"
        },
        "id": "TjAwbiYKv-ad",
        "outputId": "1fc53909-4de5-4790-9861-92ef32921fd6"
      },
      "execution_count": 11,
      "outputs": [
        {
          "output_type": "stream",
          "name": "stdout",
          "text": [
            "Enter stock tickers (e.g., AAPL MSFT CVX):\n",
            "AAPL MSFT CVX\n",
            "price_data = ({\n",
            "    'AAPL': [193.1267852783203, 193.4453125, 194.95823669433594, 193.57470703125, 195.97349548339844, 192.2210235595703, 206.18572998046875, 212.0782012939453, 213.2427520751953, 211.50086975097656, 215.6614227294922, 213.29248046875, 208.70396423339844, 206.524169921875, 207.17111206054688, 208.09678649902344, 212.25733947753906, 213.10340881347656, 209.6395721435547, 215.74105834960938, 219.24465942382812, 220.51870727539062, 225.28639221191406, 226.75953674316406, 227.61550903320312, 231.89549255371094, 226.5106964111328, 229.46685791015625, 233.3088836669922, 233.72694396972656, 227.81459045410156, 223.13644409179688, 223.26583862304688, 222.91749572753906, 223.96258544921875, 217.52268981933594, 216.4776153564453, 216.94541931152344, 217.22412109375, 217.78150939941406, 221.04623413085938, 217.3435516357422, 218.83656311035156, 208.29586791992188, 206.26535034179688, 208.84332275390625, 212.31704711914062, 215.23342895507812, 216.76803588867188, 220.49493408203125, 220.943359375, 223.93284606933594, 225.25819396972656, 225.0987548828125, 225.71656799316406, 225.60696411132812, 223.74351501464844, 226.04541015625, 226.3842315673828, 227.2312469482422, 225.69664001464844, 228.98507690429688, 228.19786071777344, 221.9896697998047, 220.076416015625, 221.60104370117188, 220.0465087890625, 220.13619995117188, 219.3389892578125, 221.88006591796875, 221.9896697998047, 221.7206268310547, 215.56228637695312, 216.03062438964844, 219.91696166992188, 228.06829833984375, 227.40065002441406, 225.67672729492188, 226.5735626220703, 225.57705688476562, 226.72303771972656, 226.99209594726562, 232.18385314941406, 225.41763305664062, 225.98562622070312, 224.87950134277344, 226.0055694580078, 220.91346740722656, 224.9791717529297, 228.7359619140625, 228.2377166748047, 226.7529296875, 230.48980712890625, 233.03086853027344, 230.96810913085938, 231.33682250976562, 234.1768341064453, 235.6516571044922, 235.03382873535156, 229.95169067382812, 229.76235961914062, 230.5994110107422, 232.5824432373047, 232.85150146484375, 229.29400634765625, 225.11868286132812, 222.12918090820312, 221.23233032226562, 222.66729736328125, 221.93984985351562, 226.68316650390625, 226.41383361816406, 223.69039916992188, 223.69039916992188, 224.5782470703125, 227.67079162597656, 224.4585418701172, 227.4712677001953, 227.73065185546875, 228.44891357421875, 227.97007751464844, 229.3168182373047, 232.30960083007812, 234.49432373046875, 234.36463928222656, 236.7588653564453, 239.013427734375, 242.06607055664062, 242.42520141601562, 242.4551239013672, 242.25559997558594, 246.1562042236328, 247.1737518310547, 245.89683532714844, 247.36329650878906, 247.5328826904297, 250.43588256835938, 252.8699951171875, 247.4530792236328, 249.1888885498047, 253.87759399414062, 254.6557159423828, 257.57867431640625, 258.39666748046875, 254.9749298095703, 251.59307861328125, 249.81736755371094, 243.26319885253906, 242.7743682861328, 244.41041564941406, 241.62713623046875, 242.11595153808594, 236.28004455566406, 233.83592224121094, 232.71861267089844, 237.2975616455078, 227.710693359375, 229.4265594482422, 222.10421752929688, 223.29136657714844, 223.1217803955078, 222.24388122558594, 229.30685424804688, 237.68663024902344, 238.7839813232422, 237.0182342529297, 235.4320831298828, 227.46128845214844, 232.23977661132812, 231.91058349609375, 232.6587677001953, 227.08221435546875, 227.3518524169922, 232.3153533935547, 236.55978393554688, 241.21368408203125, 244.2796630859375, 244.14984130859375, 244.54930114746094, 245.508056640625, 245.22842407226562, 246.77639770507812, 246.71646118164062, 240.0452117919922, 236.98922729492188, 241.5232696533203, 237.71826171875, 235.6210174560547, 235.4312744140625, 235.0218048095703, 238.7569122314453, 227.1820831298828, 220.55078125, 216.69583129882812, 209.4053955078125, 213.21041870117188, 213.71974182128906, 212.4114532470703, 214.95811462402344, 213.81961059570312, 217.98414611816406, 220.44091796875, 223.45697021484375, 221.2398681640625, 223.5568389892578, 217.6146240234375, 221.83909606933594, 222.897705078125, 223.59678649902344, 202.9239044189453, 188.13330078125, 181.2223663330078, 172.19419860839844, 198.58958435058594, 190.17062377929688, 197.89048767089844, 202.25477600097656, 201.87527465820312, 194.0155792236328, 196.72203063964844, 192.9070281982422, 199.47842407226562, 204.33206176757812, 208.09710693359375, 209.00592041015625, 209.8647918701172, 210.9333953857422, 212.22171020507812, 213.04063415527344, 205.08106994628906, 198.62953186035156, 198.25001525878906, 195.99298095703125, 197.2313690185547, 198.27000427246094, 210.7899932861328, 212.92999267578125, 212.3300018310547, 211.4499969482422, 211.25999450683594, 208.77999877929688, 206.86000061035156, 202.08999633789062, 201.36000061035156, 195.27000427246094, 200.2100067138672, 200.4199981689453, 199.9499969482422, 200.85000610351562, 201.6999969482422, 202.48989868164062],\n",
            "    'MSFT': [410.37371826171875, 412.9042663574219, 420.78387451171875, 421.28997802734375, 420.6250915527344, 424.614501953125, 429.3879089355469, 437.70416259765625, 438.22015380859375, 439.2026672363281, 444.95849609375, 442.9439697265625, 442.308837890625, 446.3578186035156, 444.26385498046875, 447.5188903808594, 448.7196960449219, 449.4044494628906, 443.54931640625, 453.2549133300781, 455.7855224609375, 457.26416015625, 464.00250244140625, 462.69256591796875, 456.04351806640625, 462.7024841308594, 451.2403564453125, 450.09912109375, 450.5060119628906, 446.09979248046875, 440.1453857421875, 437.0194091796875, 433.7841796875, 439.56982421875, 441.4653015136719, 425.63665771484375, 415.2165832519531, 422.0342712402344, 423.48321533203125, 419.7021484375, 415.1669616699219, 413.93634033203125, 405.3819274902344, 392.1434326171875, 396.56951904296875, 395.3984680175781, 399.6260986328125, 402.93072509765625, 403.7147521972656, 410.8599548339844, 413.6882629394531, 418.5796203613281, 416.0345458984375, 419.07672119140625, 422.32769775390625, 421.6715393066406, 413.1315002441406, 414.36431884765625, 411.0835266113281, 411.4314880371094, 408.2103271484375, 410.7156982421875, 414.7122802734375, 407.0570983886719, 406.5202331542969, 406.0132141113281, 399.3621826171875, 403.3587341308594, 411.7893981933594, 420.57794189453125, 424.514892578125, 428.083984375, 428.8296203613281, 432.6174621582031, 428.302734375, 436.1368408203125, 432.73675537109375, 430.9870300292969, 426.6722717285156, 429.59515380859375, 428.7998046875, 425.5289306640625, 427.795654296875, 418.2416076660156, 414.7023620605469, 414.11578369140625, 413.6385803222656, 407.15655517578125, 412.2964172363281, 415.0303955078125, 413.4198303222656, 413.8970642089844, 416.70062255859375, 416.3029479980469, 413.6982116699219, 414.29473876953125, 415.726318359375, 416.3427429199219, 425.0219421386719, 422.1288757324219, 422.2580871582031, 425.658203125, 424.1072998046875, 429.43609619140625, 430.0127258300781, 403.9850769042969, 407.9816589355469, 406.082763671875, 409.0653381347656, 417.73455810546875, 422.95404052734375, 420.0808410644531, 415.57720947265625, 420.5679931640625, 422.72540283203125, 424.4055480957031, 412.5847473144531, 413.34033203125, 415.3585205078125, 413.0718688964844, 411.2887268066406, 415.4029235839844, 417.1860656738281, 426.350830078125, 421.3699951171875, 421.8381652832031, 429.32940673828125, 429.5485534667969, 435.7447204589844, 440.9247741699219, 441.87115478515625, 444.3117370605469, 441.632080078125, 447.2704162597656, 447.83819580078125, 445.5569763183594, 449.8604431152344, 452.7194519042969, 435.71484375, 435.356201171875, 434.9278564453125, 433.5830383300781, 437.6473693847656, 436.43206787109375, 428.881103515625, 423.2029113769531, 419.88568115234375, 416.97686767578125, 421.7286071777344, 426.21136474609375, 420.7523498535156, 422.9339904785156, 417.345458984375, 415.5921936035156, 414.0780334472656, 424.6772766113281, 422.953857421875, 427.3868713378906, 426.8588562011719, 444.4911193847656, 444.9991149902344, 442.3592834472656, 432.8956604003906, 445.4872741699219, 440.6358947753906, 413.4006042480469, 413.4703674316406, 409.3462219238281, 410.7906494140625, 411.7071533203125, 414.2274475097656, 408.1806945800781, 410.6412353515625, 409.8642272949219, 407.4734191894531, 408.9676818847656, 406.86572265625, 408.0711364746094, 413.18145751953125, 415.3674621582031, 407.4619445800781, 403.2596740722656, 397.17083740234375, 398.99749755859375, 391.8106994628906, 396.26251220703125, 387.778076171875, 387.8978576660156, 400.2851257324219, 396.1627197265625, 392.5892639160156, 379.46337890625, 379.7528381347656, 382.5676574707031, 378.0758972167969, 387.84796142578125, 387.98773193359375, 382.81719970703125, 387.1093444824219, 386.131103515625, 390.54302978515625, 392.35968017578125, 394.4358825683594, 389.2554016113281, 389.8642578125, 378.1058349609375, 374.7021179199219, 381.4896545410156, 381.43975830078125, 372.42626953125, 359.18060302734375, 357.2042236328125, 353.9102783203125, 389.7744140625, 380.65118408203125, 387.7381896972656, 387.0993347167969, 385.0231628417969, 370.92901611328125, 367.1060485839844, 358.4619140625, 366.1478271484375, 373.7039489746094, 386.59027099609375, 391.1319580078125, 390.4432067871094, 393.31793212890625, 394.53570556640625, 424.6204528808594, 434.48236083984375, 435.3707275390625, 432.5159606933594, 432.555908203125, 437.3670654296875, 437.9260559082031, 448.4367370605469, 448.3169860839844, 452.1099853515625, 453.1300048828125, 454.2699890136719, 458.8699951171875, 458.1700134277344, 452.57000732421875, 454.8599853515625, 450.17999267578125, 460.69000244140625, 457.3599853515625, 458.67999267578125, 460.3599853515625, 461.9700012207031, 462.4700012207031],\n",
            "    'CVX': [150.61924743652344, 149.3470458984375, 148.24697875976562, 149.15570068359375, 149.2991943359375, 149.93052673339844, 149.69140625, 147.52000427246094, 146.199951171875, 145.9416961669922, 146.5347442626953, 146.66867065429688, 149.83486938476562, 148.53395080566406, 152.3888702392578, 151.57579040527344, 149.17483520507812, 149.52877807617188, 149.62442016601562, 149.7200927734375, 149.94007873535156, 149.90184020996094, 147.60609436035156, 147.62522888183594, 146.3338623046875, 148.3904571533203, 148.5148162841797, 148.83047485351562, 151.17404174804688, 150.915771484375, 154.2254638671875, 154.9333038330078, 152.23580932617188, 150.16966247558594, 147.39564514160156, 148.3330841064453, 150.6957550048828, 150.98272705078125, 149.79661560058594, 152.6375732421875, 153.49847412109375, 145.989501953125, 142.09632873535156, 138.37535095214844, 137.0074462890625, 136.2230987548828, 138.2127227783203, 138.69100952148438, 138.71969604492188, 137.88746643066406, 138.38487243652344, 140.42234802246094, 140.8719482421875, 142.0229949951172, 139.9530487060547, 140.5624237060547, 140.95899963378906, 142.787109375, 143.6383056640625, 142.13905334472656, 141.22015380859375, 142.59365844726562, 143.10630798339844, 139.9240264892578, 137.4188232421875, 136.31613159179688, 134.0237274169922, 135.70677185058594, 133.70452880859375, 133.3660125732422, 134.6524658203125, 136.00660705566406, 137.4381561279297, 138.71495056152344, 139.2469482421875, 140.24322509765625, 140.91062927246094, 142.70973205566406, 142.6226806640625, 139.25662231445312, 137.34144592285156, 140.72686767578125, 142.44857788085938, 144.79901123046875, 146.0081024169922, 146.29827880859375, 145.80499267578125, 146.17251586914062, 143.880126953125, 144.7506561279297, 145.6888885498047, 146.46270751953125, 146.81092834472656, 142.89352416992188, 143.8607940673828, 146.24990844726562, 145.81463623046875, 145.94039916992188, 145.97906494140625, 145.55348205566406, 145.5244598388672, 145.8726806640625, 145.61151123046875, 143.65765380859375, 143.20303344726562, 143.9478302001953, 148.05868530273438, 148.92921447753906, 148.38755798339844, 152.5564422607422, 151.63755798339844, 151.7923126220703, 151.37640380859375, 150.2060089111328, 153.52371215820312, 156.5028839111328, 156.1353302001953, 157.0831298828125, 155.94967651367188, 157.64010620117188, 157.93324279785156, 158.64654541015625, 156.69227600097656, 158.81265258789062, 158.40225219726562, 158.22637939453125, 158.49996948242188, 158.21661376953125, 154.69894409179688, 155.68585205078125, 151.68939208984375, 153.48731994628906, 153.4091339111328, 152.63720703125, 151.1715087890625, 150.3507080078125, 145.94387817382812, 144.7224578857422, 140.78465270996094, 137.92164611816406, 139.58277893066406, 139.7000274658203, 140.5501251220703, 140.6869354248047, 140.7064666748047, 139.79774475097656, 141.52725219726562, 143.3544921875, 144.46841430664062, 143.8918914794922, 146.16860961914062, 146.8623809814453, 149.63742065429688, 151.796875, 153.31141662597656, 154.70872497558594, 155.73471069335938, 157.7769012451172, 154.62078857421875, 152.83262634277344, 152.4417724609375, 152.0900115966797, 153.63388061523438, 152.63720703125, 152.1291046142578, 152.74468994140625, 145.77777099609375, 145.92433166503906, 149.71559143066406, 149.49085998535156, 148.42578125, 149.12930297851562, 152.20726013183594, 153.83908081054688, 151.35716247558594, 152.31475830078125, 153.47067260742188, 154.2808074951172, 155.33792114257812, 156.879150390625, 155.0316619873047, 155.989990234375, 154.5376739501953, 153.27308654785156, 154.78466796875, 156.71119689941406, 151.24774169921875, 150.17086791992188, 148.9951934814453, 151.10943603515625, 154.45863342285156, 155.67384338378906, 152.22584533691406, 150.8328094482422, 151.76148986816406, 155.13046264648438, 156.80999755859375, 158.87484741210938, 162.07586669921875, 162.78720092773438, 162.76744079589844, 163.03419494628906, 163.943115234375, 165.9486846923828, 164.64456176757812, 164.09130859375, 165.27687072753906, 166.48219299316406, 164.46673583984375, 154.2412872314453, 141.55580139160156, 138.4634552001953, 135.28221130371094, 144.272705078125, 133.35568237304688, 133.99786376953125, 133.6916046142578, 132.9209747314453, 133.73110961914062, 136.21090698242188, 132.1207275390625, 135.64776611328125, 135.03521728515625, 137.39646911621094, 137.060546875, 138.41407775878906, 137.6237030029297, 134.4226837158203, 134.62026977539062, 136.8333282470703, 133.8694305419922, 133.96823120117188, 134.1559295654297, 135.39088439941406, 136.82345581054688, 139.915771484375, 140.63699340820312, 139.96517944335938, 140.54806518554688, 140.3900146484375, 138.49000549316406, 137.27000427246094, 135.55999755859375, 135.2899932861328, 136.5399932861328, 137.8300018310547, 136.02000427246094, 137.91000366210938, 136.6999969482422, 137.83999633789062, 139.97999572753906],\n",
            "})\n",
            "\n",
            "Actual DataFrame:\n",
            "           AAPL        MSFT         CVX\n",
            "0    193.126785  410.373718  150.619247\n",
            "1    193.445312  412.904266  149.347046\n",
            "2    194.958237  420.783875  148.246979\n",
            "3    193.574707  421.289978  149.155701\n",
            "4    195.973495  420.625092  149.299194\n",
            "..          ...         ...         ...\n",
            "246  200.419998  457.359985  136.020004\n",
            "247  199.949997  458.679993  137.910004\n",
            "248  200.850006  460.359985  136.699997\n",
            "249  201.699997  461.970001  137.839996\n",
            "250  202.489899  462.470001  139.979996\n",
            "\n",
            "[251 rows x 3 columns]\n"
          ]
        }
      ]
    },
    {
      "cell_type": "code",
      "source": [
        "mean_return = price_data.pct_change().mean()\n",
        "print(mean_return)\n",
        "covariance_of_return = price_data.pct_change().cov()\n",
        "print(covariance_of_return)"
      ],
      "metadata": {
        "colab": {
          "base_uri": "https://localhost:8080/"
        },
        "id": "OuQQc4-o02oL",
        "outputId": "dd9f5f78-31ce-4856-f952-af723989f24b"
      },
      "execution_count": 37,
      "outputs": [
        {
          "output_type": "stream",
          "name": "stdout",
          "text": [
            "AAPL    0.000404\n",
            "MSFT    0.000607\n",
            "CVX    -0.000168\n",
            "dtype: float64\n",
            "          AAPL      MSFT       CVX\n",
            "AAPL  0.000436  0.000202  0.000139\n",
            "MSFT  0.000202  0.000260  0.000066\n",
            "CVX   0.000139  0.000066  0.000248\n"
          ]
        }
      ]
    },
    {
      "cell_type": "code",
      "source": [
        "covariance_of_close=price_data.cov()\n",
        "print(covariance_of_close)"
      ],
      "metadata": {
        "colab": {
          "base_uri": "https://localhost:8080/"
        },
        "id": "spXCSqLAY3ky",
        "outputId": "eb20fbef-f12a-4278-ba6a-1d859cb945f8"
      },
      "execution_count": 13,
      "outputs": [
        {
          "output_type": "stream",
          "name": "stdout",
          "text": [
            "            AAPL        MSFT        CVX\n",
            "AAPL  235.210540   65.117397  44.136961\n",
            "MSFT   65.117397  536.110716 -17.737207\n",
            "CVX    44.136961  -17.737207  62.196998\n"
          ]
        }
      ]
    },
    {
      "cell_type": "code",
      "source": [
        "# If you have returns data, convert to price data\n",
        "close_price_data = yf.download(clean_tickers, period=\"1y\")['Close']\n",
        "print(close_price_data)\n",
        "\n"
      ],
      "metadata": {
        "colab": {
          "base_uri": "https://localhost:8080/"
        },
        "id": "pcJ4R71cgIf6",
        "outputId": "988a7d4c-ea42-400b-dbd5-1f57f179193d"
      },
      "execution_count": 14,
      "outputs": [
        {
          "output_type": "stream",
          "name": "stderr",
          "text": [
            "\r[                       0%                       ]"
          ]
        },
        {
          "output_type": "stream",
          "name": "stdout",
          "text": [
            "YF.download() has changed argument auto_adjust default to True\n"
          ]
        },
        {
          "output_type": "stream",
          "name": "stderr",
          "text": [
            "[*********************100%***********************]  3 of 3 completed"
          ]
        },
        {
          "output_type": "stream",
          "name": "stdout",
          "text": [
            "Ticker            AAPL         CVX        MSFT\n",
            "Date                                          \n",
            "2024-06-03  193.126816  150.619232  410.373688\n",
            "2024-06-04  193.445328  149.347031  412.904297\n",
            "2024-06-05  194.958237  148.246979  420.783875\n",
            "2024-06-06  193.574707  149.155716  421.289978\n",
            "2024-06-07  195.973480  149.299194  420.625092\n",
            "...                ...         ...         ...\n",
            "2025-05-28  200.419998  136.020004  457.359985\n",
            "2025-05-29  199.949997  137.910004  458.679993\n",
            "2025-05-30  200.850006  136.699997  460.359985\n",
            "2025-06-02  201.699997  137.839996  461.970001\n",
            "2025-06-03  202.490005  139.925003  462.475006\n",
            "\n",
            "[251 rows x 3 columns]\n"
          ]
        },
        {
          "output_type": "stream",
          "name": "stderr",
          "text": [
            "\n"
          ]
        }
      ]
    },
    {
      "cell_type": "code",
      "source": [
        "pip install PyPortfolioOpt"
      ],
      "metadata": {
        "colab": {
          "base_uri": "https://localhost:8080/"
        },
        "id": "ifPfE_qQlIks",
        "outputId": "1c998ed9-0e4f-4f1a-a759-72a20fe85902"
      },
      "execution_count": 15,
      "outputs": [
        {
          "output_type": "stream",
          "name": "stdout",
          "text": [
            "Requirement already satisfied: PyPortfolioOpt in /usr/local/lib/python3.11/dist-packages (1.5.6)\n",
            "Requirement already satisfied: cvxpy>=1.1.19 in /usr/local/lib/python3.11/dist-packages (from PyPortfolioOpt) (1.6.5)\n",
            "Requirement already satisfied: ecos<3.0.0,>=2.0.14 in /usr/local/lib/python3.11/dist-packages (from PyPortfolioOpt) (2.0.14)\n",
            "Requirement already satisfied: numpy>=1.26.0 in /usr/local/lib/python3.11/dist-packages (from PyPortfolioOpt) (2.0.2)\n",
            "Requirement already satisfied: pandas>=0.19 in /usr/local/lib/python3.11/dist-packages (from PyPortfolioOpt) (2.2.2)\n",
            "Requirement already satisfied: plotly<6.0.0,>=5.0.0 in /usr/local/lib/python3.11/dist-packages (from PyPortfolioOpt) (5.24.1)\n",
            "Requirement already satisfied: scipy>=1.3 in /usr/local/lib/python3.11/dist-packages (from PyPortfolioOpt) (1.15.3)\n",
            "Requirement already satisfied: osqp>=0.6.2 in /usr/local/lib/python3.11/dist-packages (from cvxpy>=1.1.19->PyPortfolioOpt) (1.0.4)\n",
            "Requirement already satisfied: clarabel>=0.5.0 in /usr/local/lib/python3.11/dist-packages (from cvxpy>=1.1.19->PyPortfolioOpt) (0.10.0)\n",
            "Requirement already satisfied: scs>=3.2.4.post1 in /usr/local/lib/python3.11/dist-packages (from cvxpy>=1.1.19->PyPortfolioOpt) (3.2.7.post2)\n",
            "Requirement already satisfied: python-dateutil>=2.8.2 in /usr/local/lib/python3.11/dist-packages (from pandas>=0.19->PyPortfolioOpt) (2.9.0.post0)\n",
            "Requirement already satisfied: pytz>=2020.1 in /usr/local/lib/python3.11/dist-packages (from pandas>=0.19->PyPortfolioOpt) (2025.2)\n",
            "Requirement already satisfied: tzdata>=2022.7 in /usr/local/lib/python3.11/dist-packages (from pandas>=0.19->PyPortfolioOpt) (2025.2)\n",
            "Requirement already satisfied: tenacity>=6.2.0 in /usr/local/lib/python3.11/dist-packages (from plotly<6.0.0,>=5.0.0->PyPortfolioOpt) (9.1.2)\n",
            "Requirement already satisfied: packaging in /usr/local/lib/python3.11/dist-packages (from plotly<6.0.0,>=5.0.0->PyPortfolioOpt) (24.2)\n",
            "Requirement already satisfied: jinja2 in /usr/local/lib/python3.11/dist-packages (from osqp>=0.6.2->cvxpy>=1.1.19->PyPortfolioOpt) (3.1.6)\n",
            "Requirement already satisfied: setuptools in /usr/local/lib/python3.11/dist-packages (from osqp>=0.6.2->cvxpy>=1.1.19->PyPortfolioOpt) (75.2.0)\n",
            "Requirement already satisfied: joblib in /usr/local/lib/python3.11/dist-packages (from osqp>=0.6.2->cvxpy>=1.1.19->PyPortfolioOpt) (1.5.0)\n",
            "Requirement already satisfied: six>=1.5 in /usr/local/lib/python3.11/dist-packages (from python-dateutil>=2.8.2->pandas>=0.19->PyPortfolioOpt) (1.17.0)\n",
            "Requirement already satisfied: MarkupSafe>=2.0 in /usr/local/lib/python3.11/dist-packages (from jinja2->osqp>=0.6.2->cvxpy>=1.1.19->PyPortfolioOpt) (3.0.2)\n"
          ]
        }
      ]
    },
    {
      "cell_type": "code",
      "source": [
        "import numpy as np\n",
        "import pandas as pd\n",
        "from pypfopt import (\n",
        "    EfficientFrontier,\n",
        "    risk_models,\n",
        "    expected_returns,\n",
        "    objective_functions\n",
        ")\n",
        "\n",
        "# Clean data\n",
        "price_data_cleaned = price_data.dropna()\n",
        "\n",
        "# Calculate parameters\n",
        "mu = expected_returns.mean_historical_return(price_data_cleaned)\n",
        "cov_matrix = risk_models.semicovariance(price_data_cleaned)  # Using proper variable name\n",
        "\n",
        "# Initialize efficient frontier with shorting allowed\n",
        "ef = EfficientFrontier(mu, cov_matrix, weight_bounds=(-1, 1))\n",
        "\n",
        "# Add diversification objective\n",
        "ef.add_objective(objective_functions.L2_reg, gamma=0.1)\n",
        "\n",
        "\n",
        "try:\n",
        "    weights = ef.max_sharpe()  # Corrected method name\n",
        "    cleaned_weights = ef.clean_weights()\n",
        "\n",
        "    # Print performance metrics\n",
        "    ef.portfolio_performance(verbose=True)  # Corrected parentheses\n",
        "    print(\"\\nOptimal weights:\", cleaned_weights)\n",
        "\n",
        "except Exception as e:\n",
        "    print(f\"Optimization failed: {str(e)}\")"
      ],
      "metadata": {
        "colab": {
          "base_uri": "https://localhost:8080/"
        },
        "id": "7it6aPedVGeC",
        "outputId": "7258cd75-43dc-4a9e-a9c3-325076e00146"
      },
      "execution_count": 16,
      "outputs": [
        {
          "output_type": "stream",
          "name": "stdout",
          "text": [
            "Expected annual return: 18.6%\n",
            "Annual volatility: 22.1%\n",
            "Sharpe Ratio: 0.84\n",
            "\n",
            "Optimal weights: OrderedDict([('AAPL', 0.48155), ('MSFT', 1.0), ('CVX', -0.48155)])\n"
          ]
        },
        {
          "output_type": "stream",
          "name": "stderr",
          "text": [
            "/usr/local/lib/python3.11/dist-packages/pypfopt/efficient_frontier/efficient_frontier.py:259: UserWarning: max_sharpe transforms the optimization problem so additional objectives may not work as expected.\n",
            "  warnings.warn(\n"
          ]
        }
      ]
    },
    {
      "cell_type": "code",
      "source": [
        "from pypfopt.discrete_allocation import DiscreteAllocation, get_latest_prices"
      ],
      "metadata": {
        "id": "Yj7CXPqNjjX4"
      },
      "execution_count": 5,
      "outputs": []
    },
    {
      "cell_type": "code",
      "source": [
        "#SHARES TO BE ALLOCATED TO EACH TICKER\n",
        "portfolio_value=float(input(\"ENTER THE VALUE YOU ARE LOOKING TO INVEST : \"))\n",
        "latest_prices = get_latest_prices(price_data_cleaned)\n",
        "da = DiscreteAllocation(cleaned_weights, latest_prices, total_portfolio_value=portfolio_value)\n",
        "allocation, leftover = da.lp_portfolio()\n",
        "print(allocation)"
      ],
      "metadata": {
        "colab": {
          "base_uri": "https://localhost:8080/"
        },
        "id": "dJvRMUW-joQc",
        "outputId": "24785460-e6d6-4a0b-fa83-a6852f94db93"
      },
      "execution_count": 17,
      "outputs": [
        {
          "output_type": "stream",
          "name": "stdout",
          "text": [
            "ENTER THE VALUE YOU ARE LOOKING TO INVEST : 20000\n",
            "{'AAPL': 32, 'MSFT': 29, 'CVX': -68}\n"
          ]
        }
      ]
    },
    {
      "cell_type": "code",
      "source": [
        "def get_market_caps(tickers):\n",
        "    \"\"\"Get market capitalization for each ticker\"\"\"\n",
        "\n",
        "    market_caps = {}\n",
        "\n",
        "    for ticker in tickers:\n",
        "        try:\n",
        "            # Get stock info\n",
        "            stock = yf.Ticker(ticker)\n",
        "            info = stock.info\n",
        "\n",
        "            # Get market cap\n",
        "            market_cap = info.get('marketCap', None)\n",
        "            company_name = info.get('longName', 'N/A')\n",
        "\n",
        "            if market_cap:\n",
        "                market_cap_billions = market_cap / 1e9\n",
        "                market_caps[ticker] = market_cap\n",
        "                print(f\"{ticker}: ${market_cap_billions:.2f}B - {company_name}\")\n",
        "            else:\n",
        "                print(f\"{ticker}: Market cap not available\")\n",
        "\n",
        "        except Exception as e:\n",
        "            print(f\"{ticker}: Error - {e}\")\n",
        "\n",
        "    return market_caps\n",
        "\n",
        "# Main execution\n",
        "tickers = clean_tickers\n",
        "market_caps = get_market_caps(tickers)\n"
      ],
      "metadata": {
        "colab": {
          "base_uri": "https://localhost:8080/"
        },
        "id": "tKdSpzwjfayJ",
        "outputId": "ee3582f6-a679-40e6-c6a2-08dadb3f8a0a"
      },
      "execution_count": 18,
      "outputs": [
        {
          "output_type": "stream",
          "name": "stdout",
          "text": [
            "AAPL: $3024.95B - Apple Inc.\n",
            "MSFT: $3437.74B - Microsoft Corporation\n",
            "CVX: $242.27B - Chevron Corporation\n"
          ]
        }
      ]
    },
    {
      "cell_type": "code",
      "source": [
        "import numpy as np\n",
        "import pandas as pd\n",
        "\n",
        "def create_dynamic_bl_inputs(tickers):\n",
        "    \"\"\"\n",
        "    Interactive function to create P matrix and Q vector for Black-Litterman model\n",
        "    Allows user to input any number of views and any number of assets\n",
        "\n",
        "    Parameters:\n",
        "    - tickers: list of ticker symbols in the portfolio\n",
        "\n",
        "    Returns:\n",
        "    - P: Picking matrix (n_views x n_assets)\n",
        "    - Q: Views vector (n_views x 1)\n",
        "    - view_descriptions: list of view descriptions\n",
        "    \"\"\"\n",
        "\n",
        "    print(f\"Creating Black-Litterman views for portfolio: {tickers}\")\n",
        "    print(f\"Number of assets: {len(tickers)}\")\n",
        "    print(\"\\n\" + \"=\"*60)\n",
        "\n",
        "    # Get number of views from user\n",
        "    while True:\n",
        "        try:\n",
        "            n_views = int(input(\"\\nHow many views do you want to create? \"))\n",
        "            if n_views > 0:\n",
        "                break\n",
        "            else:\n",
        "                print(\"Please enter a positive number.\")\n",
        "        except ValueError:\n",
        "            print(\"Please enter a valid integer.\")\n",
        "\n",
        "    # Initialize matrices\n",
        "    n_assets = len(tickers)\n",
        "    P = np.zeros((n_views, n_assets))\n",
        "    Q = np.zeros(n_views)\n",
        "    view_descriptions = []\n",
        "\n",
        "    print(f\"\\nAsset indices for reference:\")\n",
        "    for i, ticker in enumerate(tickers):\n",
        "        print(f\"{i}: {ticker}\")\n",
        "\n",
        "    # Collect each view\n",
        "    for view_idx in range(n_views):\n",
        "        print(f\"\\n{'='*40}\")\n",
        "        print(f\"CREATING VIEW {view_idx + 1} of {n_views}\")\n",
        "        print(f\"{'='*40}\")\n",
        "\n",
        "        # Get view type\n",
        "        while True:\n",
        "            view_type = input(\"\"\"\n",
        "Choose view type:\n",
        "1. Absolute view (single asset expected return)\n",
        "2. Relative view (one asset vs another)\n",
        "Enter choice (1 or 2): \"\"\").strip()\n",
        "\n",
        "            if view_type in ['1', '2']:\n",
        "                break\n",
        "            else:\n",
        "                print(\"Please enter 1 or 2\")\n",
        "\n",
        "        if view_type == '1':\n",
        "            # Absolute view\n",
        "            P_row, q_val, description = create_absolute_view(tickers)\n",
        "\n",
        "        elif view_type == '2':\n",
        "            # Relative view\n",
        "            P_row, q_val, description = create_relative_view(tickers)\n",
        "\n",
        "\n",
        "        # Store the view\n",
        "        P[view_idx, :] = P_row # P_row might be a 1xN array from relative view, need to handle this.\n",
        "        Q[view_idx] = q_val   # q_val might be a 1x1 array from relative view, need to handle this.\n",
        "        view_descriptions.append(description) # description might be a list from relative view, need to handle this.\n",
        "\n",
        "        # Show current view\n",
        "        print(f\"\\nView {view_idx + 1} created:\")\n",
        "        print(f\"Description: {description}\")\n",
        "        print(f\"P row: {P_row}\")\n",
        "        print(f\"Q value: {q_val:.4f}\")\n",
        "\n",
        "    return P, Q, view_descriptions\n",
        "\n",
        "def create_absolute_view(tickers):\n",
        "    \"\"\"Create an absolute view for a single asset\"\"\"\n",
        "    print(\"\\n--- Absolute View ---\")\n",
        "    print(\"This creates a view on the absolute expected return of one asset\")\n",
        "\n",
        "    # Select asset\n",
        "    while True:\n",
        "        try:\n",
        "            asset_choice = input(f\"\\nSelect asset (enter ticker or index 0-{len(tickers)-1}): \").strip().upper()\n",
        "\n",
        "            if asset_choice in tickers:\n",
        "                asset_idx = tickers.index(asset_choice)\n",
        "                break\n",
        "            elif asset_choice.isdigit() and 0 <= int(asset_choice) < len(tickers):\n",
        "                asset_idx = int(asset_choice)\n",
        "                break\n",
        "            else:\n",
        "                print(f\"Please enter a valid ticker from {tickers} or index 0-{len(tickers)-1}\")\n",
        "        except:\n",
        "            print(\"Invalid input. Please try again.\")\n",
        "\n",
        "    # Get expected return\n",
        "    while True:\n",
        "        try:\n",
        "            expected_return = float(input(f\"\\nExpected return for {tickers[asset_idx]} (as decimal, e.g., 0.12 for 12%): \"))\n",
        "            break\n",
        "        except ValueError:\n",
        "            print(\"Please enter a valid number.\")\n",
        "\n",
        "    # Create P row (all zeros except 1 for selected asset)\n",
        "    P_row = np.zeros(len(tickers))\n",
        "    P_row[asset_idx] = 1.0\n",
        "\n",
        "    description = f\"{tickers[asset_idx]} expected return: {expected_return:.2%}\"\n",
        "\n",
        "    return P_row, expected_return, description\n",
        "\n",
        "def create_relative_view(tickers):\n",
        "    \"\"\"Create one or more relative views between assets\"\"\"\n",
        "    print(\"\\n--- Relative View ---\")\n",
        "    print(\"This creates views where one asset will outperform another\")\n",
        "\n",
        "    # Get number of views\n",
        "    while True:\n",
        "        try:\n",
        "            # Changed variable name to reflect number of *relative* views to create\n",
        "            n_relative_views = int(input(\"\\nHow many relative views do you want to create? \"))\n",
        "            if n_relative_views > 0:\n",
        "                break\n",
        "            print(\"Please enter a positive number.\")\n",
        "        except ValueError:\n",
        "            print(\"Please enter a valid integer.\")\n",
        "\n",
        "    # Changed initialisation to lists to store multiple views\n",
        "    P_rows = []\n",
        "    outperformance_values = []\n",
        "    descriptions = []\n",
        "\n",
        "    for i in range(n_relative_views): # Iterate based on the number of relative views\n",
        "        print(f\"\\nCreating relative view {i+1}/{n_relative_views}\")\n",
        "\n",
        "        # Select long asset\n",
        "        while True:\n",
        "            long_choice = input(\"Select LONG asset (expected to outperform): \").strip().upper()\n",
        "            if long_choice in tickers:\n",
        "                long_idx = tickers.index(long_choice)\n",
        "                break\n",
        "            if long_choice.isdigit() and 0 <= int(long_choice) < len(tickers):\n",
        "                long_idx = int(long_choice)\n",
        "                break\n",
        "            print(f\"Please enter a valid ticker from {tickers}\")\n",
        "\n",
        "        # Select short asset\n",
        "        while True:\n",
        "            short_choice = input(\"Select SHORT asset (expected to underperform): \").strip().upper()\n",
        "            if short_choice in tickers:\n",
        "                short_idx = tickers.index(short_choice)\n",
        "                if short_idx != long_idx:\n",
        "                    break\n",
        "                print(\"Short asset must be different from long asset.\")\n",
        "            elif short_choice.isdigit() and 0 <= int(short_choice) < len(tickers):\n",
        "                short_idx = int(short_choice)\n",
        "                if short_idx != long_idx:\n",
        "                    break\n",
        "                print(\"Short asset must be different from long asset.\")\n",
        "            else:\n",
        "                print(f\"Please enter a valid ticker from {tickers}\")\n",
        "\n",
        "        # Get outperformance\n",
        "        while True:\n",
        "            try:\n",
        "                outperformance = float(input(\n",
        "                    f\"Expected outperformance of {tickers[long_idx]} vs {tickers[short_idx]} (as decimal): \"))\n",
        "                break\n",
        "            except ValueError:\n",
        "                print(\"Please enter a valid number.\")\n",
        "\n",
        "        # Create P row for this relative view\n",
        "        P_row = np.zeros(len(tickers))\n",
        "        P_row[long_idx] = 1.0/n_relative_views\n",
        "        P_row[short_idx] = -1.0/n_relative_views\n",
        "\n",
        "        # Append the created P_row, outperformance, and description for THIS relative view\n",
        "        P_rows.append(P_row)\n",
        "        outperformance_values.append(outperformance)\n",
        "        descriptions.append(\n",
        "            f\"{tickers[long_idx]} vs {tickers[short_idx]} outperformance: {outperformance:.2%}\"\n",
        "        )\n",
        "\n",
        "    return P_row, outperformance, descriptions\n",
        "\n",
        "\n",
        "\n",
        "    # Return the combined matrix, vector, and list of descriptions\n",
        "    # NOTE: The create_dynamic_bl_inputs function expects a single P_row, q_val, and description\n",
        "    # This requires a change in how create_dynamic_bl_inputs handles the output of create_relative_view\n",
        "    # The current structure of create_dynamic_bl_inputs assumes create_relative_view returns a single view.\n",
        "    # We need to decide if create_relative_view should create multiple rows for one call, or if create_dynamic_bl_inputs\n",
        "    # should handle multiple calls to create_relative_view for a single view type selection.\n",
        "    # Based on the original structure (returning P_row, q_val, description), it seems the intent\n",
        "    # was to create one relative view per loop iteration in create_dynamic_bl_inputs.\n",
        "    # Let's revise create_relative_view to create just ONE relative view per call.\n",
        "\n",
        "    # REVISED create_relative_view to create only ONE relative view per call\n",
        "    print(\"\\n--- Relative View ---\")\n",
        "    print(\"This creates a single view where one asset will outperform another\")\n",
        "\n",
        "\n",
        "def display_bl_inputs(P, Q, view_descriptions, tickers):\n",
        "    \"\"\"Display the final P matrix and Q vector in a nice format\"\"\"\n",
        "    print(\"\\n\" + \"=\"*80)\n",
        "    print(\"BLACK-LITTERMAN INPUTS CREATED\")\n",
        "    print(\"=\"*80)\n",
        "\n",
        "    print(f\"\\nNumber of views: {len(Q)}\")\n",
        "    print(f\"Number of assets: {len(tickers)}\")\n",
        "\n",
        "    # Display P matrix\n",
        "    print(f\"\\nPICKING MATRIX (P):\")\n",
        "    print(f\"Shape: {P.shape}\")\n",
        "    P_df = pd.DataFrame(P,\n",
        "                       columns=tickers,\n",
        "                       index=[f\"View_{i+1}\" for i in range(len(Q))])\n",
        "    print(P_df.round(4))\n",
        "\n",
        "\n",
        "    # Display Q vector\n",
        "    print(f\"\\nVIEWS VECTOR (Q):\")\n",
        "    Q_df = pd.DataFrame({\n",
        "        # 'View': [f\"View_{i+1}\" for i in range(len(Q))],\n",
        "        # 'Description': view_descriptions,\n",
        "        'Expected_Return': Q,\n",
        "        'Expected_Return_%': Q*100,\n",
        "    })\n",
        "    print(Q_df)\n",
        "\n",
        "    # Summary statistics\n",
        "    print(f\"\\nSUMMARY:\")\n",
        "    print(f\"Q vector mean: {np.mean(Q):.4f}\")\n",
        "    print(f\"Q vector std: {np.std(Q):.4f}\")\n",
        "    print(f\"P matrix L1 norms: {np.sum(np.abs(P), axis=1)}\")\n",
        "\n",
        "    return P_df, Q_df\n",
        "\n",
        "# Main execution function\n",
        "def main_bl_input_creation(tickers):\n",
        "\n",
        "    if not isinstance(tickers, list) or len(tickers) == 0:\n",
        "        raise ValueError(\"Please provide a non-empty list of tickers\")\n",
        "\n",
        "    print(\"BLACK-LITTERMAN INPUT GENERATOR\")\n",
        "    print(\"=\"*50)\n",
        "\n",
        "    # Create inputs\n",
        "    P, Q, descriptions = create_dynamic_bl_inputs(tickers)\n",
        "\n",
        "    # Display results\n",
        "    P_df, Q_df = display_bl_inputs(P, Q, descriptions, tickers)\n",
        "\n",
        "    return P, Q, descriptions, P_df, Q_df\n",
        "\n",
        "\n",
        "if __name__ == \"__main__\":\n",
        "\n",
        "    sample_tickers = clean_tickers\n",
        "    P, Q, descriptions, P_df, Q_df = main_bl_input_creation(sample_tickers)"
      ],
      "metadata": {
        "colab": {
          "base_uri": "https://localhost:8080/"
        },
        "id": "nYiGJnF6_TPV",
        "outputId": "45f8c0e4-f12d-403c-ce9a-fe39d14e129f"
      },
      "execution_count": 26,
      "outputs": [
        {
          "output_type": "stream",
          "name": "stdout",
          "text": [
            "BLACK-LITTERMAN INPUT GENERATOR\n",
            "==================================================\n",
            "Creating Black-Litterman views for portfolio: ['AAPL', 'MSFT', 'CVX']\n",
            "Number of assets: 3\n",
            "\n",
            "============================================================\n",
            "\n",
            "How many views do you want to create? 2\n",
            "\n",
            "Asset indices for reference:\n",
            "0: AAPL\n",
            "1: MSFT\n",
            "2: CVX\n",
            "\n",
            "========================================\n",
            "CREATING VIEW 1 of 2\n",
            "========================================\n",
            "\n",
            "Choose view type:\n",
            "1. Absolute view (single asset expected return)\n",
            "2. Relative view (one asset vs another)\n",
            "Enter choice (1 or 2): 1\n",
            "\n",
            "--- Absolute View ---\n",
            "This creates a view on the absolute expected return of one asset\n",
            "\n",
            "Select asset (enter ticker or index 0-2): 0\n",
            "\n",
            "Expected return for AAPL (as decimal, e.g., 0.12 for 12%): 0.02\n",
            "\n",
            "View 1 created:\n",
            "Description: AAPL expected return: 2.00%\n",
            "P row: [1. 0. 0.]\n",
            "Q value: 0.0200\n",
            "\n",
            "========================================\n",
            "CREATING VIEW 2 of 2\n",
            "========================================\n",
            "\n",
            "Choose view type:\n",
            "1. Absolute view (single asset expected return)\n",
            "2. Relative view (one asset vs another)\n",
            "Enter choice (1 or 2): 1\n",
            "\n",
            "--- Absolute View ---\n",
            "This creates a view on the absolute expected return of one asset\n",
            "\n",
            "Select asset (enter ticker or index 0-2): 2\n",
            "\n",
            "Expected return for CVX (as decimal, e.g., 0.12 for 12%): 0.05\n",
            "\n",
            "View 2 created:\n",
            "Description: CVX expected return: 5.00%\n",
            "P row: [0. 0. 1.]\n",
            "Q value: 0.0500\n",
            "\n",
            "================================================================================\n",
            "BLACK-LITTERMAN INPUTS CREATED\n",
            "================================================================================\n",
            "\n",
            "Number of views: 2\n",
            "Number of assets: 3\n",
            "\n",
            "PICKING MATRIX (P):\n",
            "Shape: (2, 3)\n",
            "        AAPL  MSFT  CVX\n",
            "View_1   1.0   0.0  0.0\n",
            "View_2   0.0   0.0  1.0\n",
            "\n",
            "VIEWS VECTOR (Q):\n",
            "   Expected_Return  Expected_Return_%\n",
            "0             0.02                2.0\n",
            "1             0.05                5.0\n",
            "\n",
            "SUMMARY:\n",
            "Q vector mean: 0.0350\n",
            "Q vector std: 0.0150\n",
            "P matrix L1 norms: [1. 1.]\n"
          ]
        }
      ]
    },
    {
      "cell_type": "code",
      "source": [
        "P_df=np.array(P_df)\n",
        "print(P_df)\n",
        "Q_df=np.array(Q_df)\n",
        "print(Q_df)"
      ],
      "metadata": {
        "colab": {
          "base_uri": "https://localhost:8080/"
        },
        "id": "npM7cWIHaqB0",
        "outputId": "3596ec5b-6ef4-4d0d-cd7a-3fd58c348791"
      },
      "execution_count": 27,
      "outputs": [
        {
          "output_type": "stream",
          "name": "stdout",
          "text": [
            "[[1. 0. 0.]\n",
            " [0. 0. 1.]]\n",
            "[[0.02 2.  ]\n",
            " [0.05 5.  ]]\n"
          ]
        }
      ]
    },
    {
      "cell_type": "code",
      "source": [
        "import yfinance as yf\n",
        "import pandas as pd\n",
        "\n",
        "\n",
        "market_prices = yf.download(\"SPY\", period=\"max\", auto_adjust=False)[\"Adj Close\"]\n",
        "\n",
        "# Display the head of the DataFrame to verify\n",
        "print(market_prices.head())"
      ],
      "metadata": {
        "colab": {
          "base_uri": "https://localhost:8080/"
        },
        "id": "KTs7flSPx-3m",
        "outputId": "6ceac7fe-79ea-4ea1-95dc-ae04edf054c6"
      },
      "execution_count": 58,
      "outputs": [
        {
          "output_type": "stream",
          "name": "stderr",
          "text": [
            "\r[*********************100%***********************]  1 of 1 completed"
          ]
        },
        {
          "output_type": "stream",
          "name": "stdout",
          "text": [
            "Ticker            SPY\n",
            "Date                 \n",
            "1993-01-29  24.452517\n",
            "1993-02-01  24.626444\n",
            "1993-02-02  24.678606\n",
            "1993-02-03  24.939472\n",
            "1993-02-04  25.043839\n"
          ]
        },
        {
          "output_type": "stream",
          "name": "stderr",
          "text": [
            "\n"
          ]
        }
      ]
    },
    {
      "cell_type": "code",
      "source": [
        "import pypfopt\n",
        "pypfopt.__version__"
      ],
      "metadata": {
        "colab": {
          "base_uri": "https://localhost:8080/",
          "height": 36
        },
        "id": "X5nt7iOyyYhV",
        "outputId": "8455adc3-c9d3-4ca6-dae3-ddbb6f769395"
      },
      "execution_count": 59,
      "outputs": [
        {
          "output_type": "execute_result",
          "data": {
            "text/plain": [
              "'1.5.6'"
            ],
            "application/vnd.google.colaboratory.intrinsic+json": {
              "type": "string"
            }
          },
          "metadata": {},
          "execution_count": 59
        }
      ]
    },
    {
      "cell_type": "code",
      "source": [
        "from pypfopt import black_litterman, risk_models\n",
        "from pypfopt import BlackLittermanModel, plotting\n",
        "\n",
        "# Replace 'prices' with the defined variable 'price_data'\n",
        "\n",
        "delta = black_litterman.market_implied_risk_aversion(market_prices)\n",
        "delta\n",
        "\n",
        "print(delta)"
      ],
      "metadata": {
        "colab": {
          "base_uri": "https://localhost:8080/"
        },
        "id": "pmKjDYCPycsl",
        "outputId": "6cb135d9-c66d-4d8f-e899-adca8586ebf8"
      },
      "execution_count": 74,
      "outputs": [
        {
          "output_type": "stream",
          "name": "stdout",
          "text": [
            "3.3153321452765567\n"
          ]
        }
      ]
    },
    {
      "cell_type": "code",
      "source": [
        "from pypfopt.efficient_frontier import EfficientFrontier"
      ],
      "metadata": {
        "id": "-oO0tLCMCxjb"
      },
      "execution_count": 76,
      "outputs": []
    },
    {
      "cell_type": "code",
      "source": [
        "from pypfopt import black_litterman, risk_models\n",
        "\n",
        "\n",
        "\n",
        "prior = black_litterman.market_implied_prior_returns(market_caps, delta, covariance_of_return)\n",
        "\n",
        "prior=np.array(prior)\n",
        "print(prior)"
      ],
      "metadata": {
        "colab": {
          "base_uri": "https://localhost:8080/"
        },
        "id": "by-E4dyyoz5u",
        "outputId": "65c59bc4-f33b-4a17-c7ad-4721048aa4a3"
      },
      "execution_count": 75,
      "outputs": [
        {
          "output_type": "stream",
          "name": "stdout",
          "text": [
            "[0.00101224 0.00075229 0.00034931]\n"
          ]
        }
      ]
    },
    {
      "cell_type": "code",
      "source": [
        "viewdict = {}\n",
        "n = len(clean_tickers)\n",
        "#viewdict is the expected returns which we are expecting\n",
        "\n",
        "for ticker in clean_tickers:\n",
        "    viewdict[ticker] = float(input(f\"Expected return of {ticker} in decimals: \"))\n",
        "\n",
        "print(viewdict)\n",
        "\n",
        "bl = BlackLittermanModel(\n",
        "    cov_matrix=covariance_of_return,\n",
        "    absolute_views=viewdict,\n",
        "    pi=prior\n",
        ")\n",
        "\n",
        "rets = bl.bl_returns()\n",
        "ef = EfficientFrontier(rets, cov_matrix)\n",
        "bl.bl_weights(delta)\n",
        "weights = bl.clean_weights()\n",
        "\n",
        "print(weights)"
      ],
      "metadata": {
        "colab": {
          "base_uri": "https://localhost:8080/"
        },
        "id": "YVrubJe_evqc",
        "outputId": "1ca258c6-b60b-4384-847b-956867b4f18f"
      },
      "execution_count": 79,
      "outputs": [
        {
          "output_type": "stream",
          "name": "stdout",
          "text": [
            "Expected return of AAPL in decimals: 0.4\n",
            "Expected return of MSFT in decimals: 0.4\n",
            "Expected return of CVX in decimals: 0.5\n",
            "{'AAPL': 0.4, 'MSFT': 0.4, 'CVX': 0.5}\n",
            "OrderedDict([('AAPL', 0.11147), ('MSFT', 0.35525), ('CVX', 0.53328)])\n"
          ]
        }
      ]
    }
  ]
}